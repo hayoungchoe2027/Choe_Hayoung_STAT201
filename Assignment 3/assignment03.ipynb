{
 "cells": [
  {
   "cell_type": "raw",
   "metadata": {
    "vscode": {
     "languageId": "raw"
    }
   },
   "source": [
    "---\n",
    "title: \"Assignment 3\"\n",
    "subtitle: \"STAT 201\"\n",
    "author: \"Hayoung Choe\"\n",
    "format:\n",
    "  html:\n",
    "    toc: true\n",
    "    embed-resources: true\n",
    "jupyter: python3\n",
    "---"
   ]
  },
  {
   "cell_type": "markdown",
   "metadata": {},
   "source": [
    "### Instructions"
   ]
  },
  {
   "cell_type": "markdown",
   "metadata": {},
   "source": [
    "1. **Write your name** on the assignment.\n",
    "\n",
    "2. Write your code in the *Code* cells of the **template provided** to write solutions for the assignment. **Do not open a new notebook**, and work from scratch. Ensure that the solution is written neatly enough to understand and grade.\n",
    "\n",
    "3. Use [Quarto](https://quarto.org/docs/output-formats/html-basics.html) to print the *.ipynb* file as HTML. You will need to open the command prompt, navigate to the directory containing the file, and use the command: `quarto render filename.ipynb --to html`. Submit the HTML file.\n",
    "\n",
    "4. You may talk to a friend, discuss the questions and potential directions for solving them. However, you need to write your own solutions and code separately, and not as a group activity. Do not use AI to solve the problems.\n",
    "\n",
    "5. If your document is not clean and organized, you can lose up to 2 points:\n",
    "\n",
    "    - Must be an HTML file rendered using Quarto. \n",
    "    - There aren’t excessively long outputs of extraneous information (e.g. no printouts of unnecessary results without good reason, there aren’t long printouts of which iteration a loop is on, there aren’t long sections of commented-out code, etc.). There is no piece of unnecessary / redundant code, and no unnecessary / redundant text\n",
    "    - The code follows the [python style guide](https://peps.python.org/pep-0008/) for naming variables, spaces, indentation, etc.\n",
    "    - The code should be commented and clearly written with intuitive variable names. For example, use variable names such as number_input, factor, hours, instead of a,b,xyz, etc."
   ]
  },
  {
   "cell_type": "markdown",
   "metadata": {},
   "source": [
    "## Question 1 (5 points)"
   ]
  },
  {
   "cell_type": "markdown",
   "metadata": {},
   "source": [
    "a. Create a tuple called `my_data` that contains the following elements: `'dog', 9, True, 2, 8, 'cat', 3`"
   ]
  },
  {
   "cell_type": "code",
   "execution_count": 27,
   "metadata": {},
   "outputs": [],
   "source": [
    "my_data = ('dog', 9, True, 2, 8, 'cat', 3)"
   ]
  },
  {
   "cell_type": "markdown",
   "metadata": {},
   "source": [
    "b. Unpack **only the string** elements in `my_data`. You can store these elements by any variable name of your choice. Print the variables."
   ]
  },
  {
   "cell_type": "code",
   "execution_count": 28,
   "metadata": {},
   "outputs": [
    {
     "name": "stdout",
     "output_type": "stream",
     "text": [
      "dog\n",
      "cat\n"
     ]
    }
   ],
   "source": [
    "my_data = ('dog', 9, True, 2, 8, 'cat', 3)\n",
    "new_data = tuple(i for i in my_data if type(i) == str)\n",
    "str1 = new_data[0]\n",
    "str2 = new_data[1]\n",
    "\n",
    "print(str1)\n",
    "print(str2)"
   ]
  },
  {
   "cell_type": "markdown",
   "metadata": {},
   "source": [
    "c. Convert `my_data` to a list object. Then use indexing **in 2 different ways** to print the second object in your list. Note: that means you will have the same object (`9`) being printed out twice."
   ]
  },
  {
   "cell_type": "code",
   "execution_count": 29,
   "metadata": {},
   "outputs": [
    {
     "name": "stdout",
     "output_type": "stream",
     "text": [
      "['dog', 9, True, 2, 8, 'cat', 3]\n",
      "9\n",
      "9\n"
     ]
    }
   ],
   "source": [
    "my_data = ('dog', 9, True, 2, 8, 'cat', 3)\n",
    "my_data = list(my_data)\n",
    "print(my_data)\n",
    "print(my_data[1])\n",
    "print(my_data[-6])"
   ]
  },
  {
   "cell_type": "markdown",
   "metadata": {},
   "source": [
    "d. Use a loop to remove any elements in `my_data` that are NOT integers. Print `my_data` to prove you were successful.\n",
    "\n",
    "Note: This needs to be a loop that would work even if you changed the elements in `my_data`."
   ]
  },
  {
   "cell_type": "code",
   "execution_count": 1,
   "metadata": {},
   "outputs": [
    {
     "name": "stdout",
     "output_type": "stream",
     "text": [
      "(9, 2, 8, 3)\n"
     ]
    }
   ],
   "source": [
    "my_data = ('dog', 9, True, 2, 8, 'cat', 3)\n",
    "ints_list = []\n",
    "for i in my_data:\n",
    "    if type(i) == int:\n",
    "        ints_list.append(i)\n",
    "my_data = tuple(ints_list)\n",
    "\n",
    "print(my_data)"
   ]
  },
  {
   "cell_type": "markdown",
   "metadata": {},
   "source": [
    "e. Write a function that takes a list of integers as an input and returns both the minimum and maximum value. **Store the output** of the function when it is run with `my_data` from part d. **Print** your stored variables **in a sentence** to prove you were successful. This sentence should be the only thing printed."
   ]
  },
  {
   "cell_type": "code",
   "execution_count": 31,
   "metadata": {},
   "outputs": [
    {
     "name": "stdout",
     "output_type": "stream",
     "text": [
      "The minimum value is 2 and the maximum value is 9.\n"
     ]
    }
   ],
   "source": [
    "def min_and_max(int_list):\n",
    "    min_int = min(int_list)\n",
    "    max_int = max(int_list)\n",
    "    return [min_int, max_int]\n",
    "\n",
    "my_data = (9, 2, 8, 3)\n",
    "min_and_max(my_data)\n",
    "\n",
    "print(f\"The minimum value is {min_and_max(my_data)[0]} and the maximum value is {min_and_max(my_data)[1]}.\")"
   ]
  },
  {
   "cell_type": "markdown",
   "metadata": {},
   "source": [
    "## Question 2 (2 points)"
   ]
  },
  {
   "cell_type": "markdown",
   "metadata": {},
   "source": [
    "Create a shopping list by **asking the user** for a grocery item to add to the **list object**. \n",
    "\n",
    "Continue asking the user for items until the user types \"done\".\n",
    "\n",
    "**Only once the user is \"done\"**, print the grocery list.\n",
    "\n",
    "Run your program with at least 3 items added to your list."
   ]
  },
  {
   "cell_type": "code",
   "execution_count": 32,
   "metadata": {},
   "outputs": [
    {
     "name": "stdout",
     "output_type": "stream",
     "text": [
      "['Apples', 'Bananas', 'Mangoes', 'Oranges']\n"
     ]
    }
   ],
   "source": [
    "grocery_list = []\n",
    "item = input(\"Grocery Item:\")\n",
    "while item.lower() != 'done':\n",
    "    grocery_list.append(item)\n",
    "    item = input(\"Grocery Item:\")\n",
    "\n",
    "print(grocery_list)\n",
    "\n",
    "#Inputted 4 items and then inputted \"Done\""
   ]
  },
  {
   "cell_type": "markdown",
   "metadata": {},
   "source": [
    "## Question 3 (2 points)"
   ]
  },
  {
   "cell_type": "markdown",
   "metadata": {},
   "source": [
    "**Ask the user** for a grocery item and the price of the item (2 inputs).\n",
    "\n",
    "Create a `dictionary` where the grocery item is the key and the price is the value. \n",
    "\n",
    "Continue asking the user for items and prices until the user types \"done\".\n",
    "\n",
    "**Only once the user is \"done\"**, print the object.\n",
    "\n",
    "Run your program with at least 3 entries."
   ]
  },
  {
   "cell_type": "code",
   "execution_count": 10,
   "metadata": {},
   "outputs": [
    {
     "name": "stdout",
     "output_type": "stream",
     "text": [
      "{'Apples': 5.5, 'Ice Cream': 4.0, 'Butter': 7.0, 'Eggs': 53.5}\n"
     ]
    }
   ],
   "source": [
    "grocery_dict = {}\n",
    "item = input(\"Grocery Item:\")\n",
    "while item.lower() != 'done':\n",
    "    price = float(input(\"Grocery Price:\"))\n",
    "    grocery_dict[item] = price\n",
    "    item = input(\"Grocery Item:\")\n",
    "\n",
    "print(grocery_dict)\n",
    "\n",
    "#Inputted 4 items and 4 prices, then inputted \"Done\"\n"
   ]
  },
  {
   "cell_type": "markdown",
   "metadata": {},
   "source": [
    "## Question 4 (2 points)\n",
    "Take a space-separated list of numbers as input from the user and calculate the sum of all the numbers. "
   ]
  },
  {
   "cell_type": "code",
   "execution_count": 11,
   "metadata": {},
   "outputs": [
    {
     "name": "stdout",
     "output_type": "stream",
     "text": [
      "38.0\n"
     ]
    }
   ],
   "source": [
    "number_list = input(\"Numbers:\")\n",
    "numbers = [float(i) for i in number_list.split()]\n",
    "total = sum(numbers)\n",
    "print(total)\n",
    "\n",
    "#Inputted numbers were 5 8 4 6 7 2.5 5.5"
   ]
  },
  {
   "cell_type": "markdown",
   "metadata": {},
   "source": [
    "## Question 5 (4 points)"
   ]
  },
  {
   "cell_type": "markdown",
   "metadata": {},
   "source": [
    "The `score` list below contains the credit score for an individual at the end of the year and the `year` list contains the corresponding year. ie: at the end of 2010 the individual had a credit score of 680."
   ]
  },
  {
   "cell_type": "code",
   "execution_count": 12,
   "metadata": {},
   "outputs": [],
   "source": [
    "score = [680, 685, 695, 690, 715, 720, 710]\n",
    "year = [2010, 2011, 2012, 2014, 2015, 2016, 2017]"
   ]
  },
  {
   "cell_type": "markdown",
   "metadata": {},
   "source": [
    "### Part a (1 point)"
   ]
  },
  {
   "cell_type": "markdown",
   "metadata": {},
   "source": [
    "The information for 2013 is missing. In `year`, insert the year 2013 between 2012 and 2014. In `score`, insert the credit score of 2013 as the average of the credit score of 2012 and 2014 (use indexing - never use fixed values if it can be avoided). Print `year` and `score` to prove you were successful."
   ]
  },
  {
   "cell_type": "code",
   "execution_count": 13,
   "metadata": {},
   "outputs": [
    {
     "name": "stdout",
     "output_type": "stream",
     "text": [
      "[2010, 2011, 2012, 2013, 2014, 2015, 2016, 2017]\n",
      "[680, 685, 695, 692.5, 690, 715, 720, 710]\n"
     ]
    }
   ],
   "source": [
    "score = [680, 685, 695, 690, 715, 720, 710]\n",
    "year = [2010, 2011, 2012, 2014, 2015, 2016, 2017]\n",
    "year.insert(3, 2013)\n",
    "score2013 = (score[2] + score[3]) / 2\n",
    "score.insert(3, score2013)\n",
    "print(year)\n",
    "print(score)"
   ]
  },
  {
   "cell_type": "markdown",
   "metadata": {},
   "source": [
    "### Part b (3 points)"
   ]
  },
  {
   "cell_type": "markdown",
   "metadata": {},
   "source": [
    "Determine which year had the largest percentage increase in credit score. Round your percent to 2 decimal places (0.00%). \n",
    "\n",
    "For example, the percent change in 2011 is equal to 100*(685 - 680)/680 = 0.74%.\n",
    "\n",
    "There are MANY ways to accomplish this and you may do so using any techniques we have learned so long as you are using code.\n",
    "\n",
    "**Print only the sentence**: \n",
    "\n",
    "                    \"The individual had the largest increase in {year} of {change} percent.\"\n",
    "                    \n",
    "For example if the largest increase happened to be in 2011 (it didn't):\n",
    "\n",
    "                    \"The individual had the largest increase in 2011 of 0.74 percent.\""
   ]
  },
  {
   "cell_type": "code",
   "execution_count": 15,
   "metadata": {},
   "outputs": [
    {
     "name": "stdout",
     "output_type": "stream",
     "text": [
      "The individual had the largest increase in 2015 of 3.62 percent.\n"
     ]
    }
   ],
   "source": [
    "score = [680, 685, 695, 692.5, 690, 715, 720, 710]\n",
    "year = [2010, 2011, 2012, 2013, 2014, 2015, 2016, 2017]\n",
    "big_increase = 0\n",
    "big_year = 0\n",
    "for i in range(1, len(score)):\n",
    "    percentage = (score[i] - score[i-1]) / score[i-1] * 100\n",
    "    if percentage > big_increase:\n",
    "        big_increase = percentage\n",
    "        big_year = year[i]\n",
    "\n",
    "print(f\"The individual had the largest increase in {big_year} of {big_increase:.2f} percent.\")\n"
   ]
  },
  {
   "cell_type": "markdown",
   "metadata": {},
   "source": [
    "## Question 6 (4 points)"
   ]
  },
  {
   "cell_type": "markdown",
   "metadata": {},
   "source": [
    "Suppose 4 individuals are trying to decide which toppings to put on a shared pizza.\n",
    "\n",
    "The `pizza` dictionary below contains the names of the individuals and list of corresponding topping preferences."
   ]
  },
  {
   "cell_type": "code",
   "execution_count": 16,
   "metadata": {},
   "outputs": [],
   "source": [
    "pizza = {\n",
    "    'Ava': [\"sausage\", \"mushroom\", \"bacon\"],\n",
    "    'Billy': [\"pepperoni\", \"bacon\", \"sausage\", \"olives\"],\n",
    "    'Carol': [\"ham\", \"pineapple\", \"olives\", \"mushroom\"],\n",
    "    'David': [\"pepperoni\", \"bacon\", \"mushroom\", \"green pepper\", \"mushroom\"]\n",
    "}"
   ]
  },
  {
   "cell_type": "markdown",
   "metadata": {},
   "source": [
    "If at least 3 individuals listed a topping it will be included on the shared pizza.\n",
    "\n",
    "Create a **list** of the toppings that at least 3 individuals included as a preference.\n",
    "**Print only this list object.**\n",
    "\n",
    "There are MANY ways to accomplish this and you may do so using any techniques we have learned so long as you are using code."
   ]
  },
  {
   "cell_type": "code",
   "execution_count": 17,
   "metadata": {},
   "outputs": [
    {
     "name": "stdout",
     "output_type": "stream",
     "text": [
      "['mushroom', 'bacon']\n"
     ]
    }
   ],
   "source": [
    "pizza = {\n",
    "    'Ava': [\"sausage\", \"mushroom\", \"bacon\"],\n",
    "    'Billy': [\"pepperoni\", \"bacon\", \"sausage\", \"olives\"],\n",
    "    'Carol': [\"ham\", \"pineapple\", \"olives\", \"mushroom\"],\n",
    "    'David': [\"pepperoni\", \"bacon\", \"mushroom\", \"green pepper\", \"mushroom\"]\n",
    "}\n",
    "\n",
    "topping_list = []\n",
    "for topping in [\"sausage\", \"mushroom\", \"bacon\", \"pepperoni\", \"olives\", \"ham\", \"pineapple\", \"green pepper\"]:\n",
    "    count = 0\n",
    "    for i in pizza:\n",
    "        if topping in pizza[i]:\n",
    "            count += 1\n",
    "    if count >= 3:\n",
    "        topping_list.append(topping)\n",
    "\n",
    "print(topping_list)"
   ]
  },
  {
   "cell_type": "markdown",
   "metadata": {},
   "source": [
    "## Question 7 (11 points)"
   ]
  },
  {
   "cell_type": "markdown",
   "metadata": {},
   "source": [
    "### Part a (1 point)"
   ]
  },
  {
   "cell_type": "markdown",
   "metadata": {},
   "source": [
    "Create a list called `suits` that contains the following elements: \"hearts\", \"spades\", \"diamonds\", \"clubs\"\n",
    "    \n",
    "Create a list called `numbers` that contain the following elements: 2, 3, 4, 5, 6, 7, 8, 9, 10, \"J\", \"Q\", \"K\", \"A\"\n",
    "\n",
    "No need to print any output here."
   ]
  },
  {
   "cell_type": "code",
   "execution_count": 18,
   "metadata": {},
   "outputs": [],
   "source": [
    "suits = [\"hearts\", \"spades\", \"diamonds\", \"clubs\"]\n",
    "numbers = [2, 3, 4, 5, 6, 7, 8, 9, 10, \"J\", \"Q\", \"K\", \"A\"]"
   ]
  },
  {
   "cell_type": "markdown",
   "metadata": {},
   "source": [
    "### Part b (3 points)"
   ]
  },
  {
   "cell_type": "markdown",
   "metadata": {},
   "source": [
    "Use a **nested loop** to create a nested data structure called `deck` that is a **list of dictionaries**. \n",
    "\n",
    "This data structure should contain every combination of `suits` and `numbers` created in **Part a**. \n",
    "\n",
    "Clarification: \n",
    "\n",
    "- This list should contain 52 dictionaries each representing a card. \n",
    "- Each dictionary will have a key for `suit` and `value`.\n",
    "- Example: The first object in the list is {'suit': 'hearts', 'value': 2}\n",
    "\n",
    "Print only your `deck` object."
   ]
  },
  {
   "cell_type": "code",
   "execution_count": 19,
   "metadata": {},
   "outputs": [
    {
     "name": "stdout",
     "output_type": "stream",
     "text": [
      "[{'suit': 'hearts', 'value': 2}, {'suit': 'hearts', 'value': 3}, {'suit': 'hearts', 'value': 4}, {'suit': 'hearts', 'value': 5}, {'suit': 'hearts', 'value': 6}, {'suit': 'hearts', 'value': 7}, {'suit': 'hearts', 'value': 8}, {'suit': 'hearts', 'value': 9}, {'suit': 'hearts', 'value': 10}, {'suit': 'hearts', 'value': 'J'}, {'suit': 'hearts', 'value': 'Q'}, {'suit': 'hearts', 'value': 'K'}, {'suit': 'hearts', 'value': 'A'}, {'suit': 'spades', 'value': 2}, {'suit': 'spades', 'value': 3}, {'suit': 'spades', 'value': 4}, {'suit': 'spades', 'value': 5}, {'suit': 'spades', 'value': 6}, {'suit': 'spades', 'value': 7}, {'suit': 'spades', 'value': 8}, {'suit': 'spades', 'value': 9}, {'suit': 'spades', 'value': 10}, {'suit': 'spades', 'value': 'J'}, {'suit': 'spades', 'value': 'Q'}, {'suit': 'spades', 'value': 'K'}, {'suit': 'spades', 'value': 'A'}, {'suit': 'diamonds', 'value': 2}, {'suit': 'diamonds', 'value': 3}, {'suit': 'diamonds', 'value': 4}, {'suit': 'diamonds', 'value': 5}, {'suit': 'diamonds', 'value': 6}, {'suit': 'diamonds', 'value': 7}, {'suit': 'diamonds', 'value': 8}, {'suit': 'diamonds', 'value': 9}, {'suit': 'diamonds', 'value': 10}, {'suit': 'diamonds', 'value': 'J'}, {'suit': 'diamonds', 'value': 'Q'}, {'suit': 'diamonds', 'value': 'K'}, {'suit': 'diamonds', 'value': 'A'}, {'suit': 'clubs', 'value': 2}, {'suit': 'clubs', 'value': 3}, {'suit': 'clubs', 'value': 4}, {'suit': 'clubs', 'value': 5}, {'suit': 'clubs', 'value': 6}, {'suit': 'clubs', 'value': 7}, {'suit': 'clubs', 'value': 8}, {'suit': 'clubs', 'value': 9}, {'suit': 'clubs', 'value': 10}, {'suit': 'clubs', 'value': 'J'}, {'suit': 'clubs', 'value': 'Q'}, {'suit': 'clubs', 'value': 'K'}, {'suit': 'clubs', 'value': 'A'}]\n"
     ]
    }
   ],
   "source": [
    "suits = [\"hearts\", \"spades\", \"diamonds\", \"clubs\"]\n",
    "numbers = [2, 3, 4, 5, 6, 7, 8, 9, 10, \"J\", \"Q\", \"K\", \"A\"]\n",
    "deck = []\n",
    "for suit in suits:\n",
    "    for number in numbers:\n",
    "        deck.append({'suit': suit, 'value': number})\n",
    "\n",
    "print(deck)"
   ]
  },
  {
   "cell_type": "markdown",
   "metadata": {},
   "source": [
    "### Part c (1 point)"
   ]
  },
  {
   "cell_type": "markdown",
   "metadata": {},
   "source": [
    "Import the `random` module and name the alias `rm`. Use the `sample()` function from this module to **sample 2 cards** from the `deck` you created in **Part b**. Assign the first object to `player1` and the second object to `player2`.\n",
    "\n",
    "Print `player1` and `player2`'s cards to prove you were successful."
   ]
  },
  {
   "cell_type": "code",
   "execution_count": 21,
   "metadata": {},
   "outputs": [
    {
     "name": "stdout",
     "output_type": "stream",
     "text": [
      "{'suit': 'clubs', 'value': 'Q'}\n",
      "{'suit': 'diamonds', 'value': 'K'}\n"
     ]
    }
   ],
   "source": [
    "import random as rm\n",
    "deck = [{'suit': 'hearts', 'value': 2}, {'suit': 'hearts', 'value': 3}, {'suit': 'hearts', 'value': 4}, {'suit': 'hearts', 'value': 5}, {'suit': 'hearts', 'value': 6}, {'suit': 'hearts', 'value': 7}, {'suit': 'hearts', 'value': 8}, {'suit': 'hearts', 'value': 9}, {'suit': 'hearts', 'value': 10}, {'suit': 'hearts', 'value': 'J'}, {'suit': 'hearts', 'value': 'Q'}, {'suit': 'hearts', 'value': 'K'}, {'suit': 'hearts', 'value': 'A'}, {'suit': 'spades', 'value': 2}, {'suit': 'spades', 'value': 3}, {'suit': 'spades', 'value': 4}, {'suit': 'spades', 'value': 5}, {'suit': 'spades', 'value': 6}, {'suit': 'spades', 'value': 7}, {'suit': 'spades', 'value': 8}, {'suit': 'spades', 'value': 9}, {'suit': 'spades', 'value': 10}, {'suit': 'spades', 'value': 'J'}, {'suit': 'spades', 'value': 'Q'}, {'suit': 'spades', 'value': 'K'}, {'suit': 'spades', 'value': 'A'}, {'suit': 'diamonds', 'value': 2}, {'suit': 'diamonds', 'value': 3}, {'suit': 'diamonds', 'value': 4}, {'suit': 'diamonds', 'value': 5}, {'suit': 'diamonds', 'value': 6}, {'suit': 'diamonds', 'value': 7}, {'suit': 'diamonds', 'value': 8}, {'suit': 'diamonds', 'value': 9}, {'suit': 'diamonds', 'value': 10}, {'suit': 'diamonds', 'value': 'J'}, {'suit': 'diamonds', 'value': 'Q'}, {'suit': 'diamonds', 'value': 'K'}, {'suit': 'diamonds', 'value': 'A'}, {'suit': 'clubs', 'value': 2}, {'suit': 'clubs', 'value': 3}, {'suit': 'clubs', 'value': 4}, {'suit': 'clubs', 'value': 5}, {'suit': 'clubs', 'value': 6}, {'suit': 'clubs', 'value': 7}, {'suit': 'clubs', 'value': 8}, {'suit': 'clubs', 'value': 9}, {'suit': 'clubs', 'value': 10}, {'suit': 'clubs', 'value': 'J'}, {'suit': 'clubs', 'value': 'Q'}, {'suit': 'clubs', 'value': 'K'}, {'suit': 'clubs', 'value': 'A'}]\n",
    "samplecards = rm.sample(deck, 2)\n",
    "player1 = samplecards[0]\n",
    "player2 = samplecards[1]\n",
    "\n",
    "print(player1)\n",
    "print(player2)\n"
   ]
  },
  {
   "cell_type": "markdown",
   "metadata": {},
   "source": [
    "### Part d (4 points)"
   ]
  },
  {
   "cell_type": "markdown",
   "metadata": {},
   "source": [
    "Write a function that takes 2 input values (each input will be a dictionary containing keys: \"suit\" and \"value\").\n",
    "This function should **only** return the card (dictionary) that is the highest number. \n",
    "If both numbers are the same then the function should return the string \"Tie\".\n",
    "\n",
    "**Store** the output of the function as `winning_card` when the function is run using `player1` and `player2` created in **Part c**.\n",
    "\n",
    "Print `winning_card`.\n",
    "\n",
    "Clarification: \n",
    "\n",
    "- 2 < ... < 10 < J < Q < K < A\n",
    "- All suits are the same: 2 of spades = 2 of diamonds\n",
    "- The word input in a function does NOT refer to \"user input\". Recall, a function takes any number of input objects and returns any number of output objects. \n",
    "- This function should not print or return anything other than what was specified above (ie: the winning card or the word \"Tie\")."
   ]
  },
  {
   "cell_type": "code",
   "execution_count": 23,
   "metadata": {},
   "outputs": [
    {
     "name": "stdout",
     "output_type": "stream",
     "text": [
      "{'suit': 'diamonds', 'value': 'K'}\n"
     ]
    }
   ],
   "source": [
    "def cards(card1, card2):\n",
    "    if card1[\"value\"] == \"J\":\n",
    "        value1 = 11\n",
    "    elif card1[\"value\"] == \"Q\":\n",
    "        value1 = 12\n",
    "    elif card1[\"value\"] == \"K\":\n",
    "        value1 = 13\n",
    "    elif card1[\"value\"] == \"A\":\n",
    "        value1 = 14\n",
    "    else:\n",
    "        value1 = card1[\"value\"]\n",
    "    \n",
    "    if card2[\"value\"] == \"J\":\n",
    "        value2 = 11\n",
    "    elif card2[\"value\"] == \"Q\":\n",
    "        value2 = 12\n",
    "    elif card2[\"value\"] == \"K\":\n",
    "        value2 = 13\n",
    "    elif card2[\"value\"] == \"A\":\n",
    "        value2 = 14\n",
    "    else:\n",
    "        value2 = card2[\"value\"]\n",
    "\n",
    "    if value1 > value2:\n",
    "        return card1\n",
    "    elif value2 > value1:\n",
    "        return card2\n",
    "    else:\n",
    "        return \"Tie\"\n",
    "    \n",
    "winning_card = cards(player1, player2)\n",
    "print(winning_card)\n"
   ]
  },
  {
   "cell_type": "markdown",
   "metadata": {},
   "source": [
    "### Part e (2 points)"
   ]
  },
  {
   "cell_type": "markdown",
   "metadata": {},
   "source": [
    "Write a conditional statement (using the objects created above) to print one of the following statements:\n",
    "    \n",
    "    - \"Player 1 wins.\"\n",
    "    - \"Player 2 wins.\"\n",
    "    - \"Player 1 and Player 2 tie.\""
   ]
  },
  {
   "cell_type": "code",
   "execution_count": 26,
   "metadata": {},
   "outputs": [
    {
     "name": "stdout",
     "output_type": "stream",
     "text": [
      "Player 2 wins.\n"
     ]
    }
   ],
   "source": [
    "if winning_card == player1:\n",
    "    print(\"Player 1 wins.\")\n",
    "elif winning_card == player2:\n",
    "    print(\"Player 2 wins.\")\n",
    "else:\n",
    "    print(\"Player 1 and Player 2 tie.\")"
   ]
  }
 ],
 "metadata": {
  "kernelspec": {
   "display_name": "Python 3",
   "language": "python",
   "name": "python3"
  },
  "language_info": {
   "codemirror_mode": {
    "name": "ipython",
    "version": 3
   },
   "file_extension": ".py",
   "mimetype": "text/x-python",
   "name": "python",
   "nbconvert_exporter": "python",
   "pygments_lexer": "ipython3",
   "version": "3.11.5"
  }
 },
 "nbformat": 4,
 "nbformat_minor": 4
}
