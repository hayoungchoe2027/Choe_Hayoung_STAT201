{
 "cells": [
  {
   "cell_type": "raw",
   "metadata": {
    "vscode": {
     "languageId": "raw"
    }
   },
   "source": [
    "---\n",
    "title: \"Assignment 2\"\n",
    "subtitle: \"STAT 201\"\n",
    "author: \"Hayoung Choe\"\n",
    "format:\n",
    "  html:\n",
    "    toc: true\n",
    "    embed-resources: true\n",
    "---"
   ]
  },
  {
   "cell_type": "markdown",
   "metadata": {},
   "source": [
    "### Instructions"
   ]
  },
  {
   "cell_type": "markdown",
   "metadata": {},
   "source": [
    "1. **Write your name** on the assignment.\n",
    "\n",
    "2. Write your code in the *Code* cells of the **template provided** to write solutions for the assignment. **Do not open a new notebook**, and work from scratch. Ensure that the solution is written neatly enough to understand and grade.\n",
    "\n",
    "3. Use [Quarto](https://quarto.org/docs/output-formats/html-basics.html) to print the *.ipynb* file as HTML. You will need to open the command prompt, navigate to the directory containing the file, and use the command: `quarto render filename.ipynb --to html`. Submit the HTML file.\n",
    "\n",
    "4. You may talk to a friend, discuss the questions and potential directions for solving them. However, you need to write your own solutions and code separately, and not as a group activity. Do not use AI to solve the problems.\n",
    "\n",
    "5. There are 2 points for cleanliness and organization. The breakdown is as follows:\n",
    "    - Must be an HTML file rendered using Quarto. \n",
    "    - There aren’t excessively long outputs of extraneous information (e.g. no printouts of unnecessary results without good reason, there aren’t long printouts of which iteration a loop is on, there aren’t long sections of commented-out code, etc.). There is no piece of unnecessary / redundant code, and no unnecessary / redundant text\n",
    "    - The code follows the [python style guide](https://peps.python.org/pep-0008/) for naming variables, spaces, indentation, etc.\n",
    "    - The code should be commented and clearly written with intuitive variable names. For example, use variable names such as number_input, factor, hours, instead of a,b,xyz, etc."
   ]
  },
  {
   "cell_type": "markdown",
   "metadata": {},
   "source": [
    "### Question 1 (3 points)"
   ]
  },
  {
   "cell_type": "markdown",
   "metadata": {},
   "source": [
    "a) Write a program that counts down from 5 and then prints the message \"Go\"."
   ]
  },
  {
   "cell_type": "code",
   "execution_count": 11,
   "metadata": {},
   "outputs": [
    {
     "name": "stdout",
     "output_type": "stream",
     "text": [
      "5\n",
      "4\n",
      "3\n",
      "2\n",
      "1\n",
      "Go\n"
     ]
    }
   ],
   "source": [
    "for i in range(5, 0, -1):\n",
    "    print(i)\n",
    "print(\"Go\")"
   ]
  },
  {
   "cell_type": "markdown",
   "metadata": {},
   "source": [
    "b) Write a program that asks the user for an integer, then counts down from that integer and then prints the message \"Go\". Use a try-except to ensure the user entered an integer. If it is not an integer, return the message \"You must enter an integer\". Show the output of the program if the user inputs `3`. "
   ]
  },
  {
   "cell_type": "code",
   "execution_count": 13,
   "metadata": {},
   "outputs": [
    {
     "name": "stdout",
     "output_type": "stream",
     "text": [
      "3\n",
      "2\n",
      "1\n",
      "Go\n"
     ]
    }
   ],
   "source": [
    "try:\n",
    "    num = int(input(\"Integer:\"))\n",
    "except ValueError:\n",
    "    print(\"You must enter an integer\")\n",
    "else: \n",
    "    for i in range(num, 0, -1):\n",
    "        print(i)\n",
    "    print(\"Go\")\n",
    "\n",
    "#Inputted number is 3\n"
   ]
  },
  {
   "cell_type": "markdown",
   "metadata": {},
   "source": [
    "c) Copy and modify part b to allow the user to keep entering input until they correctly enter an integer (ie: don't end after the except). Show the output of the program if the user first inputs `8.9` and then inputs `7`. "
   ]
  },
  {
   "cell_type": "code",
   "execution_count": 14,
   "metadata": {},
   "outputs": [
    {
     "name": "stdout",
     "output_type": "stream",
     "text": [
      "You must enter an integer\n",
      "7\n",
      "6\n",
      "5\n",
      "4\n",
      "3\n",
      "2\n",
      "1\n",
      "Go\n"
     ]
    }
   ],
   "source": [
    "while True:\n",
    "    try: \n",
    "        num = int(input(\"Integer:\"))\n",
    "        break\n",
    "    except ValueError:\n",
    "        print(\"You must enter an integer\")\n",
    "for i in range(num, 0, -1):\n",
    "    print(i)\n",
    "print(\"Go\")\n",
    "\n",
    "#First inputted number is 8.9. Second inputted number is 7. \n"
   ]
  },
  {
   "cell_type": "markdown",
   "metadata": {},
   "source": [
    "### Question 2 (2 points)"
   ]
  },
  {
   "cell_type": "markdown",
   "metadata": {},
   "source": [
    "Print a star formation as follows:\n",
    "\n",
    "                                             * \n",
    "                                             * * \n",
    "                                             * * * \n",
    "                                             * * * * \n",
    "                                             \n",
    "Ask the user to input the height of the formation first. For example, 4 should return the formation above. Show the output of the program if the user inputs `5`. "
   ]
  },
  {
   "cell_type": "code",
   "execution_count": 15,
   "metadata": {},
   "outputs": [
    {
     "name": "stdout",
     "output_type": "stream",
     "text": [
      "* \n",
      "* * \n",
      "* * * \n",
      "* * * * \n",
      "* * * * * \n"
     ]
    }
   ],
   "source": [
    "hgt = int(input(\"Height:\"))\n",
    "for i in range(1, hgt + 1):\n",
    "    print(\"* \" * i)\n",
    "\n",
    "#Inputted number is 5"
   ]
  },
  {
   "cell_type": "markdown",
   "metadata": {},
   "source": [
    "### Question 3 (6 points)"
   ]
  },
  {
   "cell_type": "markdown",
   "metadata": {},
   "source": [
    "a) Write a program where you play 3 \"Rock, Paper, Scissors\" games against the computer. Simulate a random choice for the computer each game and ask the user to enter either rock, paper, or scissors. Print the number of times the user won out of 3 games. Show the output of the program after playing the game. \n",
    "\n",
    "Recall: rock beats scissors; scissors beats paper; paper beats rock.\n",
    "\n",
    "Example:\n",
    "\n",
    "                                    \"You won <num_win> out of 3 games.\""
   ]
  },
  {
   "cell_type": "code",
   "execution_count": 8,
   "metadata": {},
   "outputs": [
    {
     "name": "stdout",
     "output_type": "stream",
     "text": [
      "You win! The computer chose scissors and you chose rock.\n",
      "You win! The computer chose rock and you chose paper.\n",
      "You lose! The computer chose rock and you chose scissors.\n",
      "You won 2 out of 3 games.\n"
     ]
    }
   ],
   "source": [
    "# import the random function and name the alias rm\n",
    "import random as rm\n",
    "\n",
    "# code to generate a random choice of rock, paper, scissors for the computer\n",
    "\n",
    "wins = 0\n",
    "for i in range(3):\n",
    "    comp_choice = rm.choice(['rock', 'paper', 'scissors'])\n",
    "    user_choice = input(\"Enter Rock, Paper, or Scissors: \").lower()\n",
    "    if user_choice not in ['rock', 'paper', 'scissors']:\n",
    "        print(\"Invalid Choice.\")\n",
    "    else:\n",
    "        if user_choice == comp_choice:\n",
    "            print(f\"It's a tie, the computer chose {comp_choice}, and you chose {user_choice}.\")\n",
    "        elif (user_choice == \"rock\" and comp_choice == \"scissors\"):\n",
    "            print(f\"You win! The computer chose {comp_choice} and you chose {user_choice}.\")\n",
    "            wins += 1\n",
    "        elif (user_choice == \"scissors\" and comp_choice == \"paper\"):\n",
    "            print(f\"You win! The computer chose {comp_choice} and you chose {user_choice}.\")\n",
    "            wins += 1\n",
    "        elif (user_choice == \"paper\" and comp_choice == \"rock\"):\n",
    "            print(f\"You win! The computer chose {comp_choice} and you chose {user_choice}.\")\n",
    "            wins += 1\n",
    "        else:\n",
    "            print(f\"You lose! The computer chose {comp_choice} and you chose {user_choice}.\")\n",
    "\n",
    "print(f\"You won {wins} out of 3 games.\")"
   ]
  },
  {
   "cell_type": "markdown",
   "metadata": {},
   "source": [
    "b) Write a program where you play \"Rock, Paper, Scissors\" games against the computer until you have won 3 games. Simulate a random choice for the computer each game and ask the user to enter either rock, paper, or scissors. Print the number of games it took to win 3 times. Show the output of the program after playing the game.\n",
    "\n",
    "Example:\n",
    "\n",
    "                                    \"You won 3 out of <num_games> games.\""
   ]
  },
  {
   "cell_type": "code",
   "execution_count": 16,
   "metadata": {},
   "outputs": [
    {
     "name": "stdout",
     "output_type": "stream",
     "text": [
      "You lose! The computer chose paper and you chose rock.\n",
      "You lose! The computer chose scissors and you chose paper.\n",
      "It's a tie, the computer chose scissors, and you chose scissors.\n",
      "You lose! The computer chose paper and you chose rock.\n",
      "You win! The computer chose rock and you chose paper.\n",
      "You lose! The computer chose rock and you chose scissors.\n",
      "You lose! The computer chose paper and you chose rock.\n",
      "You win! The computer chose rock and you chose paper.\n",
      "You win! The computer chose paper and you chose scissors.\n",
      "You won 3 out of 9 games.\n"
     ]
    }
   ],
   "source": [
    "import random as rm\n",
    "wins = 0\n",
    "games= 0\n",
    "while wins < 3:\n",
    "    comp_choice = rm.choice(['rock', 'paper', 'scissors'])\n",
    "    user_choice = input(\"Enter Rock, Paper, or Scissors: \").lower()\n",
    "    if user_choice not in ['rock', 'paper', 'scissors']:\n",
    "        print(\"Invalid Choice.\")\n",
    "    else:\n",
    "        games += 1\n",
    "        if user_choice == comp_choice:\n",
    "            print(f\"It's a tie, the computer chose {comp_choice}, and you chose {user_choice}.\")\n",
    "        elif (user_choice == \"rock\" and comp_choice == \"scissors\"):\n",
    "            print(f\"You win! The computer chose {comp_choice} and you chose {user_choice}.\")\n",
    "            wins += 1\n",
    "        elif (user_choice == \"scissors\" and comp_choice == \"paper\"):\n",
    "            print(f\"You win! The computer chose {comp_choice} and you chose {user_choice}.\")\n",
    "            wins += 1\n",
    "        elif (user_choice == \"paper\" and comp_choice == \"rock\"):\n",
    "            print(f\"You win! The computer chose {comp_choice} and you chose {user_choice}.\")\n",
    "            wins += 1\n",
    "        else:\n",
    "            print(f\"You lose! The computer chose {comp_choice} and you chose {user_choice}.\")\n",
    "\n",
    "print(f\"You won 3 out of {games} games.\")\n",
    "    "
   ]
  },
  {
   "cell_type": "markdown",
   "metadata": {},
   "source": [
    "### Question 4 (6 points)"
   ]
  },
  {
   "cell_type": "markdown",
   "metadata": {},
   "source": [
    "a) Write a program (loop) that prints all the factors of a positive integer input by the user. A factor is any positive integer that divides the number and leaves no remainder. Show the output of the program if the user inputs `24`. \n",
    "\n",
    "Example: The factors of 8 are 1, 2, 4, 8."
   ]
  },
  {
   "cell_type": "code",
   "execution_count": 17,
   "metadata": {},
   "outputs": [
    {
     "name": "stdout",
     "output_type": "stream",
     "text": [
      "The factors of 24 are 1, 2, 3, 4, 6, 8, 12, 24."
     ]
    }
   ],
   "source": [
    "num = int(input(\"Enter a positive integer:\"))\n",
    "print(f\"The factors of {num} are\", end=\" \")\n",
    "for i in range(1, num + 1):\n",
    "    if num % i == 0:\n",
    "        if i == num:\n",
    "            print(i, end=\".\")\n",
    "        else:\n",
    "            print(i, end=\", \")\n",
    "\n",
    "#Inputted number is 24"
   ]
  },
  {
   "cell_type": "markdown",
   "metadata": {},
   "source": [
    "b) Write a **function** called `number_of_factors` that takes an integer and returns how many factors the number has. Run your function with `24` to check if it works."
   ]
  },
  {
   "cell_type": "code",
   "execution_count": 19,
   "metadata": {},
   "outputs": [
    {
     "name": "stdout",
     "output_type": "stream",
     "text": [
      "8\n"
     ]
    }
   ],
   "source": [
    "def number_of_factors(num):\n",
    "    count = 0\n",
    "    for i in range(1, num+1):\n",
    "        if num % i == 0:\n",
    "            count += 1\n",
    "    print(count)\n",
    "\n",
    "number_of_factors(24)\n",
    "    "
   ]
  },
  {
   "cell_type": "markdown",
   "metadata": {},
   "source": [
    "### Question 5 (6 points)"
   ]
  },
  {
   "cell_type": "markdown",
   "metadata": {},
   "source": [
    "a) Write a program (loop) that identifies whether a positive integer input by the user is prime or not. A prime number is a number whose only divisors are 1 and itself. Show the output when the program is used to check if `89` is prime or not."
   ]
  },
  {
   "cell_type": "code",
   "execution_count": 20,
   "metadata": {},
   "outputs": [
    {
     "name": "stdout",
     "output_type": "stream",
     "text": [
      "Prime\n"
     ]
    }
   ],
   "source": [
    "num = int(input(\"Enter a positive integer:\"))\n",
    "isprime = 0\n",
    "for i in range(2, num//2 + 1):\n",
    "    if num % i == 0:\n",
    "        isprime = 1\n",
    "        break\n",
    "if isprime == 0:\n",
    "    print(\"Prime\")\n",
    "else:\n",
    "    print(\"Not Prime\")\n",
    "\n",
    "#Inputted number is 89"
   ]
  },
  {
   "cell_type": "markdown",
   "metadata": {},
   "source": [
    "b) Write a **function** that checks if a positive integer is prime or not. It should take one integer input and return a boolean. Run your function with `197` to check if it works."
   ]
  },
  {
   "cell_type": "code",
   "execution_count": 21,
   "metadata": {},
   "outputs": [
    {
     "name": "stdout",
     "output_type": "stream",
     "text": [
      "True\n"
     ]
    }
   ],
   "source": [
    "def prime(num):\n",
    "    for i in range(2, num // 2 + 1):\n",
    "        if num % i == 0:\n",
    "            return False\n",
    "    return True\n",
    "\n",
    "print(prime(197))"
   ]
  },
  {
   "cell_type": "markdown",
   "metadata": {},
   "source": [
    "### Question 6 (4 points)"
   ]
  },
  {
   "cell_type": "markdown",
   "metadata": {},
   "source": [
    "Write a function that calculates the area of a rectangle. The function should have an input for length (in inches) and width (in inches). And have 2 ouputs: the area in terms of square inches and the area in terms of square feet. There are 12 inches in 1 foot. Run your function with a length of 102 inches and width of 60 inches to check if it works."
   ]
  },
  {
   "cell_type": "code",
   "execution_count": null,
   "metadata": {},
   "outputs": [
    {
     "name": "stdout",
     "output_type": "stream",
     "text": [
      "Square Inches Area: 6120\n",
      "Square Feet Area: 42.5\n"
     ]
    }
   ],
   "source": [
    "def rectangle(length, width):\n",
    "    area_inch = length * width\n",
    "    area_feet = area_inch / 144\n",
    "    print(\"Square Inches Area:\", area_inch)\n",
    "    print(\"Square Feet Area:\", area_feet)\n",
    "\n",
    "rectangle(102, 60)"
   ]
  },
  {
   "cell_type": "markdown",
   "metadata": {},
   "source": [
    "### Question 7 (3 points)"
   ]
  },
  {
   "cell_type": "markdown",
   "metadata": {},
   "source": [
    "Write a function that takes a word and a sentence as two string inputs and returns the number of times the word occurs in the sentence as the output.\n",
    "\n",
    "Run your function with **\"sea\"** and **“Sea shells are on the sea shore when the sea is calm.”** inputs to check if it works. Your function should work for any word and sentence. \n",
    "\n",
    "Note: at this time it does not have to differentiate a distinct word just if it appears in any form. Example: **“The sea gives me nausea.”** would return 2."
   ]
  },
  {
   "cell_type": "code",
   "execution_count": 22,
   "metadata": {},
   "outputs": [
    {
     "name": "stdout",
     "output_type": "stream",
     "text": [
      "3\n"
     ]
    }
   ],
   "source": [
    "def wordcount(word, sentence):\n",
    "    sentence = sentence.lower()\n",
    "    word = word.lower()\n",
    "    print(sentence.count(word))\n",
    "\n",
    "wordcount(\"sea\", \"Sea shells are on the sea shore when the sea is calm.\")\n",
    "    \n"
   ]
  }
 ],
 "metadata": {
  "kernelspec": {
   "display_name": "Python 3",
   "language": "python",
   "name": "python3"
  },
  "language_info": {
   "codemirror_mode": {
    "name": "ipython",
    "version": 3
   },
   "file_extension": ".py",
   "mimetype": "text/x-python",
   "name": "python",
   "nbconvert_exporter": "python",
   "pygments_lexer": "ipython3",
   "version": "3.11.5"
  }
 },
 "nbformat": 4,
 "nbformat_minor": 4
}
